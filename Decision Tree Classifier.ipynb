{
 "cells": [
  {
   "cell_type": "code",
   "execution_count": 3,
   "metadata": {},
   "outputs": [],
   "source": [
    "# Import the necessary Libraries\n",
    "import pandas as pd\n",
    "import matplotlib.pyplot as plt"
   ]
  },
  {
   "cell_type": "code",
   "execution_count": 4,
   "metadata": {},
   "outputs": [],
   "source": [
    "# For text feature extraction\n",
    "from sklearn.feature_extraction.text import TfidfVectorizer"
   ]
  },
  {
   "cell_type": "code",
   "execution_count": 5,
   "metadata": {},
   "outputs": [],
   "source": [
    "# For creating a pipeline\n",
    "from sklearn.pipeline import Pipeline"
   ]
  },
  {
   "cell_type": "code",
   "execution_count": 6,
   "metadata": {},
   "outputs": [],
   "source": [
    "# Classifier Model (Decision Tree)\n",
    "from sklearn.tree import DecisionTreeClassifier"
   ]
  },
  {
   "cell_type": "code",
   "execution_count": 7,
   "metadata": {},
   "outputs": [],
   "source": [
    "# Read the File\n",
    "data = pd.read_csv('training.csv')"
   ]
  },
  {
   "cell_type": "code",
   "execution_count": 8,
   "metadata": {},
   "outputs": [
    {
     "data": {
      "text/html": [
       "<div>\n",
       "<style scoped>\n",
       "    .dataframe tbody tr th:only-of-type {\n",
       "        vertical-align: middle;\n",
       "    }\n",
       "\n",
       "    .dataframe tbody tr th {\n",
       "        vertical-align: top;\n",
       "    }\n",
       "\n",
       "    .dataframe thead th {\n",
       "        text-align: right;\n",
       "    }\n",
       "</style>\n",
       "<table border=\"1\" class=\"dataframe\">\n",
       "  <thead>\n",
       "    <tr style=\"text-align: right;\">\n",
       "      <th></th>\n",
       "      <th>index</th>\n",
       "      <th>strength</th>\n",
       "    </tr>\n",
       "  </thead>\n",
       "  <tbody>\n",
       "    <tr>\n",
       "      <th>count</th>\n",
       "      <td>669424.000000</td>\n",
       "      <td>669424.000000</td>\n",
       "    </tr>\n",
       "    <tr>\n",
       "      <th>mean</th>\n",
       "      <td>334837.506352</td>\n",
       "      <td>0.990217</td>\n",
       "    </tr>\n",
       "    <tr>\n",
       "      <th>std</th>\n",
       "      <td>193311.729046</td>\n",
       "      <td>0.507937</td>\n",
       "    </tr>\n",
       "    <tr>\n",
       "      <th>min</th>\n",
       "      <td>0.000000</td>\n",
       "      <td>0.000000</td>\n",
       "    </tr>\n",
       "    <tr>\n",
       "      <th>25%</th>\n",
       "      <td>167423.750000</td>\n",
       "      <td>1.000000</td>\n",
       "    </tr>\n",
       "    <tr>\n",
       "      <th>50%</th>\n",
       "      <td>334840.500000</td>\n",
       "      <td>1.000000</td>\n",
       "    </tr>\n",
       "    <tr>\n",
       "      <th>75%</th>\n",
       "      <td>502254.250000</td>\n",
       "      <td>1.000000</td>\n",
       "    </tr>\n",
       "    <tr>\n",
       "      <th>max</th>\n",
       "      <td>669639.000000</td>\n",
       "      <td>2.000000</td>\n",
       "    </tr>\n",
       "  </tbody>\n",
       "</table>\n",
       "</div>"
      ],
      "text/plain": [
       "               index       strength\n",
       "count  669424.000000  669424.000000\n",
       "mean   334837.506352       0.990217\n",
       "std    193311.729046       0.507937\n",
       "min         0.000000       0.000000\n",
       "25%    167423.750000       1.000000\n",
       "50%    334840.500000       1.000000\n",
       "75%    502254.250000       1.000000\n",
       "max    669639.000000       2.000000"
      ]
     },
     "execution_count": 8,
     "metadata": {},
     "output_type": "execute_result"
    }
   ],
   "source": [
    "data.describe()"
   ]
  },
  {
   "cell_type": "code",
   "execution_count": 9,
   "metadata": {},
   "outputs": [
    {
     "data": {
      "text/html": [
       "<div>\n",
       "<style scoped>\n",
       "    .dataframe tbody tr th:only-of-type {\n",
       "        vertical-align: middle;\n",
       "    }\n",
       "\n",
       "    .dataframe tbody tr th {\n",
       "        vertical-align: top;\n",
       "    }\n",
       "\n",
       "    .dataframe thead th {\n",
       "        text-align: right;\n",
       "    }\n",
       "</style>\n",
       "<table border=\"1\" class=\"dataframe\">\n",
       "  <thead>\n",
       "    <tr style=\"text-align: right;\">\n",
       "      <th></th>\n",
       "      <th>index</th>\n",
       "      <th>password</th>\n",
       "      <th>strength</th>\n",
       "    </tr>\n",
       "  </thead>\n",
       "  <tbody>\n",
       "    <tr>\n",
       "      <th>0</th>\n",
       "      <td>0</td>\n",
       "      <td>kzde5577</td>\n",
       "      <td>1</td>\n",
       "    </tr>\n",
       "    <tr>\n",
       "      <th>1</th>\n",
       "      <td>1</td>\n",
       "      <td>kino3434</td>\n",
       "      <td>1</td>\n",
       "    </tr>\n",
       "    <tr>\n",
       "      <th>2</th>\n",
       "      <td>2</td>\n",
       "      <td>visi7k1yr</td>\n",
       "      <td>1</td>\n",
       "    </tr>\n",
       "    <tr>\n",
       "      <th>3</th>\n",
       "      <td>3</td>\n",
       "      <td>megzy123</td>\n",
       "      <td>1</td>\n",
       "    </tr>\n",
       "    <tr>\n",
       "      <th>4</th>\n",
       "      <td>4</td>\n",
       "      <td>lamborghin1</td>\n",
       "      <td>1</td>\n",
       "    </tr>\n",
       "  </tbody>\n",
       "</table>\n",
       "</div>"
      ],
      "text/plain": [
       "   index     password  strength\n",
       "0      0     kzde5577         1\n",
       "1      1     kino3434         1\n",
       "2      2    visi7k1yr         1\n",
       "3      3     megzy123         1\n",
       "4      4  lamborghin1         1"
      ]
     },
     "execution_count": 9,
     "metadata": {},
     "output_type": "execute_result"
    }
   ],
   "source": [
    "data.head()"
   ]
  },
  {
   "cell_type": "code",
   "execution_count": 10,
   "metadata": {},
   "outputs": [],
   "source": [
    "# Features which are passwords\n",
    "# Selecting all rows and coloumn 1 which are passwords of type 'string'.\n",
    "\n",
    "features = data.values[:, 1].astype('str')"
   ]
  },
  {
   "cell_type": "code",
   "execution_count": 11,
   "metadata": {},
   "outputs": [
    {
     "name": "stdout",
     "output_type": "stream",
     "text": [
      "['kzde5577' 'kino3434' 'visi7k1yr' ... '184520socram' 'marken22a'\n",
      " 'fxx4pw4g']\n"
     ]
    }
   ],
   "source": [
    "print(features)"
   ]
  },
  {
   "cell_type": "code",
   "execution_count": 12,
   "metadata": {},
   "outputs": [],
   "source": [
    "# Labels which are strength of password\n",
    "# Selecting all rows and last coloumn which are passwords strengths of type 'int'.\n",
    "\n",
    "labels = data.values[:, -1].astype('int')"
   ]
  },
  {
   "cell_type": "code",
   "execution_count": 13,
   "metadata": {},
   "outputs": [
    {
     "name": "stdout",
     "output_type": "stream",
     "text": [
      "[1 1 1 ... 1 1 1]\n"
     ]
    }
   ],
   "source": [
    "print(labels)"
   ]
  },
  {
   "cell_type": "code",
   "execution_count": 14,
   "metadata": {},
   "outputs": [],
   "source": [
    "# Sequentially apply a list of transforms and a final estimator\n",
    "classifier_model = Pipeline([\n",
    "                ('tfidf', TfidfVectorizer(analyzer='char')),\n",
    "                ('decisionTree',DecisionTreeClassifier()),\n",
    "])"
   ]
  },
  {
   "cell_type": "code",
   "execution_count": 15,
   "metadata": {},
   "outputs": [
    {
     "data": {
      "text/plain": [
       "Pipeline(steps=[('tfidf', TfidfVectorizer(analyzer='char')),\n",
       "                ('decisionTree', DecisionTreeClassifier())])"
      ]
     },
     "execution_count": 15,
     "metadata": {},
     "output_type": "execute_result"
    }
   ],
   "source": [
    "# Fit the Model\n",
    "classifier_model.fit(features, labels)"
   ]
  },
  {
   "cell_type": "code",
   "execution_count": 16,
   "metadata": {},
   "outputs": [],
   "source": [
    "# Instead of splitting dataset into training and testing, we keep test dataset as seprate .csv file "
   ]
  },
  {
   "cell_type": "code",
   "execution_count": 17,
   "metadata": {},
   "outputs": [],
   "source": [
    "df= pd.read_csv('cleanpasswordlist.csv')\n",
    "X = df.values[:, 1].astype('str')\n",
    "y = df.values[:, -1].astype('int')"
   ]
  },
  {
   "cell_type": "code",
   "execution_count": 18,
   "metadata": {},
   "outputs": [
    {
     "name": "stdout",
     "output_type": "stream",
     "text": [
      "Testing Accuracy:  99.97236434253277\n"
     ]
    }
   ],
   "source": [
    "print('Testing Accuracy: ',classifier_model.score(X, y)*100)"
   ]
  },
  {
   "cell_type": "code",
   "execution_count": 82,
   "metadata": {},
   "outputs": [
    {
     "data": {
      "text/plain": [
       "array([1, 2, 1, 1, 0, 1, 1, 2, 1, 1, 0, 1, 1, 1, 1, 1, 1, 2, 0, 1, 2, 0,\n",
       "       1, 0, 0, 2, 1, 1, 1, 0, 1, 1, 1, 1, 1, 2, 1, 1, 0, 1, 0, 0, 1, 1,\n",
       "       1, 1, 1, 1, 0, 1])"
      ]
     },
     "execution_count": 82,
     "metadata": {},
     "output_type": "execute_result"
    }
   ],
   "source": [
    "#showing predication for 50 passwords as a sample\n",
    "\n",
    "list=features[40:90]\n",
    "predict=classifier_model.predict(list)\n",
    "predict"
   ]
  },
  {
   "cell_type": "code",
   "execution_count": 84,
   "metadata": {
    "scrolled": true
   },
   "outputs": [
    {
     "name": "stdout",
     "output_type": "stream",
     "text": [
      "['juliel009' 'pHyqueDIyNQ8vmhb' 'alimagik1' 'yqugu927' 'olmaz.'\n",
      " 'hpqkoxsn5' 'a2531106' 'TyWM72UNEex8Q8Y' 'ejeko677' 'openup12' 'ok>bdk'\n",
      " 'tamanagung6' 'c3h8bkzr' 'patri1973' 'yk530mg8' 'bozoxik602' 'calcifer32'\n",
      " 'b4NbTxDEyNgG141J' 'd04m11' 'matiofox08' 'khmer100.03278&?><Mnb'\n",
      " 'sknq7m0' 'snolyuj04' 'kjkjkj1' 'bgrvl80' 'Iamthelegend1!' 'il0vey0u'\n",
      " 'obstacle25' 'rntprns7' 'gdfn76' 'mickael12' 'cesarmaio1' 'juliana19'\n",
      " 'kunyukbabi69' 'hodygid757' 'ga98SIzk0NwhiZaE' '283671gus' 'jalingo1'\n",
      " 'p2share' 'k9b8cz6aj2' 'gill02' 'j09000' '2021848709.' 'hayhayq2'\n",
      " 'yllime123' '3vszncp4' '123477889a' '12345yolanda' 'woon12' '929865yt']\n"
     ]
    }
   ],
   "source": [
    "print(list)"
   ]
  },
  {
   "cell_type": "code",
   "execution_count": 78,
   "metadata": {},
   "outputs": [],
   "source": [
    "# Taking sample of 50 passwords for ploting on Graph\n",
    "\n",
    "x=features[100:150]\n",
    "y=classifier_model.predict(x)"
   ]
  },
  {
   "cell_type": "code",
   "execution_count": 79,
   "metadata": {},
   "outputs": [
    {
     "data": {
      "image/png": "[encoded data removed]",
      "text/plain": [
       "<Figure size 432x288 with 1 Axes>"
      ]
     },
     "metadata": {
      "needs_background": "light"
     },
     "output_type": "display_data"
    }
   ],
   "source": [
    "# Ploting graph\n",
    "\n",
    "plt.scatter(x, y, color = 'red')\n",
    "plt.title('Password vs Strength')\n",
    "plt.xlabel('Password String')\n",
    "plt.ylabel('Strength scale')\n",
    "plt.show()"
   ]
  },
  {
   "cell_type": "code",
   "execution_count": 85,
   "metadata": {},
   "outputs": [
    {
     "name": "stdout",
     "output_type": "stream",
     "text": [
      "['ikanez886' '746xitEGiqObog' 'oekojWyH120063' 'RqsuUsDYxNgr8T40'\n",
      " 'xyws951753' 'elonex24' 'jalal123456' '6tequila6' 'yu4cmn' 'ass359'\n",
      " 'icap12' '2akira2' 'znbl5tj1' '123maxbala' '64959rodro' 'moken7'\n",
      " 'teemteem97' 'aquhih220' 'zoobike04' 'farrukhcse12' 'pato221182'\n",
      " '10Erjrlmebup0n' 'pikey231' 'z3ro1sm' 'portales1' 'jUV4dSDQwNwPpA36'\n",
      " 'fnmsdha476' 'g3rappa' 'rogyh820' 'sanki1' '20Dgw7TQ0OQVdly7' 'ldteugao6'\n",
      " '2yz4ewwg' 'www32223222' 'yuri110995' '1972vishara' 'warriors08'\n",
      " 'vehat387' '3y6iwef2g6' 'RPFUOUDQwMwVW0AS' 'w9209640' '5gzj5uf' 'kinga22'\n",
      " 'nicolas05' '26522876p' 'barra23' '147963asd' '123net123' 's9830950044'\n",
      " 'denise18']\n"
     ]
    }
   ],
   "source": [
    "# Printing x coordinate\n",
    "\n",
    "print(x)"
   ]
  },
  {
   "cell_type": "code",
   "execution_count": 86,
   "metadata": {},
   "outputs": [
    {
     "name": "stdout",
     "output_type": "stream",
     "text": [
      "[1 2 2 2 1 1 1 1 0 0 0 0 1 1 1 0 1 1 1 1 1 2 1 0 1 2 1 0 1 0 2 1 1 1 1 1 1\n",
      " 1 1 2 1 0 0 1 1 0 1 1 1 1]\n"
     ]
    }
   ],
   "source": [
    "# Printing y coordinate\n",
    "\n",
    "print(y)"
   ]
  }
 ],
 "metadata": {
  "kernelspec": {
   "display_name": "Python 3",
   "language": "python",
   "name": "python3"
  },
  "language_info": {
   "codemirror_mode": {
    "name": "ipython",
    "version": 3
   },
   "file_extension": ".py",
   "mimetype": "text/x-python",
   "name": "python",
   "nbconvert_exporter": "python",
   "pygments_lexer": "ipython3",
   "version": "3.6.9"
  }
 },
 "nbformat": 4,
 "nbformat_minor": 4
}
